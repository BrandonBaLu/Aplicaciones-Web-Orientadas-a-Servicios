{
  "cells": [
    {
      "cell_type": "markdown",
      "metadata": {
        "id": "view-in-github",
        "colab_type": "text"
      },
      "source": [
        "<a href=\"https://colab.research.google.com/github/BrandonBaLu/Aplicaciones-Web-Orientadas-a-Servicios/blob/main/Jupyter_1.ipynb\" target=\"_parent\"><img src=\"https://colab.research.google.com/assets/colab-badge.svg\" alt=\"Open In Colab\"/></a>"
      ]
    },
    {
      "cell_type": "code",
      "execution_count": null,
      "metadata": {
        "id": "knuTjyb0qkRV"
      },
      "outputs": [],
      "source": [
        "#SQLALchemy ORM\n",
        "from sqlalchemy import create_engine \n",
        "from sqlalchemy import MetaData \n",
        "from sqlalchemy import Table, Column, Integer, String\n",
        "from sqlalchemy import select, insert, update, delete"
      ]
    },
    {
      "cell_type": "code",
      "execution_count": null,
      "metadata": {
        "id": "x56hh8PKqkRc"
      },
      "outputs": [],
      "source": [
        "engine = create_engine('sqlite:///prueba.db')"
      ]
    },
    {
      "cell_type": "code",
      "execution_count": null,
      "metadata": {
        "id": "pKq-AMMAqkRe"
      },
      "outputs": [],
      "source": [
        "metadata=MetaData()"
      ]
    },
    {
      "cell_type": "code",
      "execution_count": null,
      "metadata": {
        "id": "ViqLzdnYqkRe"
      },
      "outputs": [],
      "source": [
        "clientes =Table(\n",
        "    'clientes', metadata,\n",
        "    Column('id_cliente', Integer, primary_key=True),\n",
        "    Column('nombre', String, nullable=False),\n",
        "    Column('email', String, nullable=False),\n",
        ")"
      ]
    },
    {
      "cell_type": "code",
      "execution_count": null,
      "metadata": {
        "colab": {
          "base_uri": "https://localhost:8080/"
        },
        "id": "ZDlOgXXRqkRf",
        "outputId": "f115c86e-e7df-464f-a2b3-3bbe36273420"
      },
      "outputs": [
        {
          "output_type": "stream",
          "name": "stdout",
          "text": [
            "<class 'sqlalchemy.sql.schema.Table'>\n"
          ]
        }
      ],
      "source": [
        "print(type(clientes))"
      ]
    },
    {
      "cell_type": "code",
      "execution_count": null,
      "metadata": {
        "id": "GXLap3yQqkRh"
      },
      "outputs": [],
      "source": [
        "metadata.create_all(engine)"
      ]
    },
    {
      "cell_type": "code",
      "execution_count": null,
      "metadata": {
        "colab": {
          "base_uri": "https://localhost:8080/"
        },
        "id": "pqOu5AdoqkRi",
        "outputId": "17b09997-b92c-441f-8e6d-2a2e61f94a91"
      },
      "outputs": [
        {
          "output_type": "stream",
          "name": "stdout",
          "text": [
            "<class 'sqlalchemy.sql.dml.Insert'>\n",
            "INSERT INTO clientes (nombre, email) VALUES (:nombre, :email)\n"
          ]
        }
      ],
      "source": [
        "stmt = insert(clientes).values(nombre=\"Cliente 1\", email=\"clientes@mail.com\") \n",
        "print(type(stmt))\n",
        "print(stmt)"
      ]
    },
    {
      "cell_type": "code",
      "execution_count": null,
      "metadata": {
        "id": "btkGonhxqkRj"
      },
      "outputs": [],
      "source": [
        "with engine.connect() as conn:\n",
        "    result = conn.execute(stmt)"
      ]
    },
    {
      "cell_type": "code",
      "execution_count": null,
      "metadata": {
        "colab": {
          "base_uri": "https://localhost:8080/"
        },
        "id": "hJnAVpP5qkRk",
        "outputId": "32af5ab0-6343-4485-93fa-d19d6548739c"
      },
      "outputs": [
        {
          "output_type": "stream",
          "name": "stdout",
          "text": [
            "<class 'sqlalchemy.sql.dml.Insert'>\n",
            "INSERT INTO clientes (nombre, email) VALUES (:nombre_m0, :email_m0), (:nombre_m1, :email_m1), (:nombre_m2, :email_m2)\n"
          ]
        }
      ],
      "source": [
        "data =[\n",
        "    {\"nombre\": \"Cliente 2\", \"email\": \"email1@email.com\"},\n",
        "    {\"nombre\": \"Cliente 3\", \"email\": \"email2@email.com\"},\n",
        "    {\"nombre\": \"Cliente 4\", \"email\": \"email3@email.com\"}\n",
        "]\n",
        "stmt = insert(clientes).values(data)\n",
        "print(type(stmt))\n",
        "print(stmt)"
      ]
    },
    {
      "cell_type": "code",
      "execution_count": null,
      "metadata": {
        "id": "17jPfXxVqkRl"
      },
      "outputs": [],
      "source": [
        "with engine.connect() as conn:\n",
        "    result = conn.execute(stmt)"
      ]
    },
    {
      "cell_type": "code",
      "execution_count": null,
      "metadata": {
        "colab": {
          "base_uri": "https://localhost:8080/"
        },
        "id": "etFT4KSsqkRm",
        "outputId": "0980f7bd-8a6f-4230-ee8d-bb1db1fd830c"
      },
      "outputs": [
        {
          "output_type": "stream",
          "name": "stdout",
          "text": [
            "<class 'sqlalchemy.sql.selectable.Select'>\n",
            "SELECT clientes.id_cliente, clientes.nombre, clientes.email \n",
            "FROM clientes\n"
          ]
        }
      ],
      "source": [
        "stmt =select(clientes)\n",
        "print(type(stmt))\n",
        "print(stmt)"
      ]
    },
    {
      "cell_type": "code",
      "execution_count": null,
      "metadata": {
        "colab": {
          "base_uri": "https://localhost:8080/"
        },
        "id": "yv78cKenqkRn",
        "outputId": "edac1dd6-018c-4855-80c1-63ca239fd62f"
      },
      "outputs": [
        {
          "output_type": "stream",
          "name": "stdout",
          "text": [
            "Cliente 1\n",
            "Cliente 2\n",
            "Cliente 3\n",
            "Cliente 4\n"
          ]
        }
      ],
      "source": [
        "with engine.connect() as conn:\n",
        "    result = conn.execute(stmt)\n",
        "    for key in result.fetchall():\n",
        "        print(key.nombre)"
      ]
    }
  ],
  "metadata": {
    "kernelspec": {
      "display_name": "Python 3.10.4 64-bit",
      "language": "python",
      "name": "python3"
    },
    "language_info": {
      "codemirror_mode": {
        "name": "ipython",
        "version": 3
      },
      "file_extension": ".py",
      "mimetype": "text/x-python",
      "name": "python",
      "nbconvert_exporter": "python",
      "pygments_lexer": "ipython3",
      "version": "3.10.4"
    },
    "orig_nbformat": 4,
    "vscode": {
      "interpreter": {
        "hash": "916dbcbb3f70747c44a77c7bcd40155683ae19c65e1c03b4aa3499c5328201f1"
      }
    },
    "colab": {
      "name": "Jupyter-1.ipynb",
      "provenance": [],
      "collapsed_sections": [],
      "include_colab_link": true
    }
  },
  "nbformat": 4,
  "nbformat_minor": 0
}